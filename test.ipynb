{
  "nbformat": 4,
  "nbformat_minor": 0,
  "metadata": {
    "colab": {
      "provenance": [],
      "authorship_tag": "ABX9TyNavh3l2ILYd/UZCNbFUVTD",
      "include_colab_link": true
    },
    "kernelspec": {
      "name": "python3",
      "display_name": "Python 3"
    },
    "language_info": {
      "name": "python"
    }
  },
  "cells": [
    {
      "cell_type": "markdown",
      "metadata": {
        "id": "view-in-github",
        "colab_type": "text"
      },
      "source": [
        "<a href=\"https://colab.research.google.com/github/macapagithub/exaple-unsupervised-learning/blob/master/test.ipynb\" target=\"_parent\"><img src=\"https://colab.research.google.com/assets/colab-badge.svg\" alt=\"Open In Colab\"/></a>"
      ]
    },
    {
      "cell_type": "markdown",
      "source": [
        "Models"
      ],
      "metadata": {
        "id": "QRC0LwMCyhbB"
      }
    },
    {
      "cell_type": "code",
      "source": [
        "import requests\n",
        "import numpy as np\n",
        "import pandas as pd\n",
        "import seaborn as sns\n",
        "import matplotlib.pyplot as plt"
      ],
      "metadata": {
        "id": "QdL4--hZylpi"
      },
      "execution_count": 1,
      "outputs": []
    },
    {
      "cell_type": "code",
      "source": [],
      "metadata": {
        "id": "rbRnhU9o6ZjX"
      },
      "execution_count": null,
      "outputs": []
    },
    {
      "cell_type": "code",
      "source": [
        "url_train_labels = 'https://raw.githubusercontent.com/macapagithub/exaple-unsupervised-learning/master/data/training_set_labels.csv'\n",
        "url_test_features = 'https://raw.githubusercontent.com/macapagithub/exaple-unsupervised-learning/master/data/test_set_features.csv'\n",
        "url_train_features = 'https://raw.githubusercontent.com/macapagithub/exaple-unsupervised-learning/master/data/training_set_features.csv'"
      ],
      "metadata": {
        "id": "VVcvzQeS6Zgk"
      },
      "execution_count": 2,
      "outputs": []
    },
    {
      "cell_type": "code",
      "source": [
        "test_features_df = pd.read_csv(url_test_features)\n",
        "train_features_df = pd.read_csv(url_train_features)\n",
        "train_labels_df = pd.read_csv(url_train_labels)"
      ],
      "metadata": {
        "id": "KQfYWJe66gQJ"
      },
      "execution_count": 3,
      "outputs": []
    },
    {
      "cell_type": "code",
      "source": [
        "# joined_df = train_features_df.set_index('respondent_id').join(train_labels_df.set_index('respondent_id'))\n",
        "# print(joined_df.shape)\n",
        "# joined_df.head(3)"
      ],
      "metadata": {
        "id": "QbX3jeDe6j_O"
      },
      "execution_count": null,
      "outputs": []
    },
    {
      "cell_type": "code",
      "source": [],
      "metadata": {
        "id": "HsbEiWGDAGVf"
      },
      "execution_count": null,
      "outputs": []
    },
    {
      "cell_type": "code",
      "source": [
        "from sklearn.cluster import KMeans\n",
        "number_cluster = []\n",
        "for i in range(1,13):\n",
        "    kmeans = KMeans(n_clusters=i, init='k-means++')\n",
        "    kmeans.fit(train_labels_df)\n",
        "    number_cluster.append(kmeans.inertia_)\n"
      ],
      "metadata": {
        "id": "QNtRviYpAGSD"
      },
      "execution_count": 4,
      "outputs": []
    },
    {
      "cell_type": "code",
      "source": [
        "number_cluster"
      ],
      "metadata": {
        "colab": {
          "base_uri": "https://localhost:8080/"
        },
        "id": "Z5I8uEsYylmw",
        "outputId": "b4a76104-2fe5-40df-897d-aa83e41cf831"
      },
      "execution_count": 5,
      "outputs": [
        {
          "output_type": "execute_result",
          "data": {
            "text/plain": [
              "[1587428143491.6765,\n",
              " 396860789864.5891,\n",
              " 176403637627.1084,\n",
              " 99261321674.60135,\n",
              " 63510348752.24649,\n",
              " 44189218317.771576,\n",
              " 32406602759.655006,\n",
              " 24824292975.619087,\n",
              " 19627579777.72254,\n",
              " 15919945844.319653,\n",
              " 13135447788.701538,\n",
              " 11067960071.504171]"
            ]
          },
          "metadata": {},
          "execution_count": 5
        }
      ]
    },
    {
      "cell_type": "code",
      "source": [
        "plt.plot(range(1,13), number_cluster)"
      ],
      "metadata": {
        "colab": {
          "base_uri": "https://localhost:8080/",
          "height": 293
        },
        "id": "K5a26kVIBQrw",
        "outputId": "6448e518-ed72-49ed-ff06-2ef3d2d8bc02"
      },
      "execution_count": 6,
      "outputs": [
        {
          "output_type": "execute_result",
          "data": {
            "text/plain": [
              "[<matplotlib.lines.Line2D at 0x7f5793fd6690>]"
            ]
          },
          "metadata": {},
          "execution_count": 6
        },
        {
          "output_type": "display_data",
          "data": {
            "text/plain": [
              "<Figure size 432x288 with 1 Axes>"
            ],
            "image/png": "[encoded data removed]"
          },
          "metadata": {
            "needs_background": "light"
          }
        }
      ]
    },
    {
      "cell_type": "code",
      "source": [
        "features = []\n",
        "for c in train_features_df.columns:\n",
        "    t = str(train_features_df[c].dtype)\n",
        "    if \"int\" in t or \"float\" in t:\n",
        "        features.append(c)\n",
        "features"
      ],
      "metadata": {
        "colab": {
          "base_uri": "https://localhost:8080/"
        },
        "id": "-CbW5bE8g2KP",
        "outputId": "2bd0f2fa-a1f6-46a3-fe32-7aed7524edbd"
      },
      "execution_count": 7,
      "outputs": [
        {
          "output_type": "execute_result",
          "data": {
            "text/plain": [
              "['respondent_id',\n",
              " 'h1n1_concern',\n",
              " 'h1n1_knowledge',\n",
              " 'behavioral_antiviral_meds',\n",
              " 'behavioral_avoidance',\n",
              " 'behavioral_face_mask',\n",
              " 'behavioral_wash_hands',\n",
              " 'behavioral_large_gatherings',\n",
              " 'behavioral_outside_home',\n",
              " 'behavioral_touch_face',\n",
              " 'doctor_recc_h1n1',\n",
              " 'doctor_recc_seasonal',\n",
              " 'chronic_med_condition',\n",
              " 'child_under_6_months',\n",
              " 'health_worker',\n",
              " 'health_insurance',\n",
              " 'opinion_h1n1_vacc_effective',\n",
              " 'opinion_h1n1_risk',\n",
              " 'opinion_h1n1_sick_from_vacc',\n",
              " 'opinion_seas_vacc_effective',\n",
              " 'opinion_seas_risk',\n",
              " 'opinion_seas_sick_from_vacc',\n",
              " 'household_adults',\n",
              " 'household_children']"
            ]
          },
          "metadata": {},
          "execution_count": 7
        }
      ]
    },
    {
      "cell_type": "code",
      "source": [
        "df_features = train_features_df[features]\n",
        "df_features.head(1)"
      ],
      "metadata": {
        "id": "GgehzJjqgxeR",
        "outputId": "97637b03-7696-4941-b6b1-a41218b2fb2a",
        "colab": {
          "base_uri": "https://localhost:8080/",
          "height": 174
        }
      },
      "execution_count": 8,
      "outputs": [
        {
          "output_type": "execute_result",
          "data": {
            "text/plain": [
              "   respondent_id  h1n1_concern  h1n1_knowledge  behavioral_antiviral_meds  \\\n",
              "0              0           1.0             0.0                        0.0   \n",
              "\n",
              "   behavioral_avoidance  behavioral_face_mask  behavioral_wash_hands  \\\n",
              "0                   0.0                   0.0                    0.0   \n",
              "\n",
              "   behavioral_large_gatherings  behavioral_outside_home  \\\n",
              "0                          0.0                      1.0   \n",
              "\n",
              "   behavioral_touch_face  ...  health_worker  health_insurance  \\\n",
              "0                    1.0  ...            0.0               1.0   \n",
              "\n",
              "   opinion_h1n1_vacc_effective  opinion_h1n1_risk  \\\n",
              "0                          3.0                1.0   \n",
              "\n",
              "   opinion_h1n1_sick_from_vacc  opinion_seas_vacc_effective  \\\n",
              "0                          2.0                          2.0   \n",
              "\n",
              "   opinion_seas_risk  opinion_seas_sick_from_vacc  household_adults  \\\n",
              "0                1.0                          2.0               0.0   \n",
              "\n",
              "   household_children  \n",
              "0                 0.0  \n",
              "\n",
              "[1 rows x 24 columns]"
            ],
            "text/html": [
              "\n",
              "  <div id=\"df-6ef536c6-5d69-4e9e-8096-477246d2647d\">\n",
              "    <div class=\"colab-df-container\">\n",
              "      <div>\n",
              "<style scoped>\n",
              "    .dataframe tbody tr th:only-of-type {\n",
              "        vertical-align: middle;\n",
              "    }\n",
              "\n",
              "    .dataframe tbody tr th {\n",
              "        vertical-align: top;\n",
              "    }\n",
              "\n",
              "    .dataframe thead th {\n",
              "        text-align: right;\n",
              "    }\n",
              "</style>\n",
              "<table border=\"1\" class=\"dataframe\">\n",
              "  <thead>\n",
              "    <tr style=\"text-align: right;\">\n",
              "      <th></th>\n",
              "      <th>respondent_id</th>\n",
              "      <th>h1n1_concern</th>\n",
              "      <th>h1n1_knowledge</th>\n",
              "      <th>behavioral_antiviral_meds</th>\n",
              "      <th>behavioral_avoidance</th>\n",
              "      <th>behavioral_face_mask</th>\n",
              "      <th>behavioral_wash_hands</th>\n",
              "      <th>behavioral_large_gatherings</th>\n",
              "      <th>behavioral_outside_home</th>\n",
              "      <th>behavioral_touch_face</th>\n",
              "      <th>...</th>\n",
              "      <th>health_worker</th>\n",
              "      <th>health_insurance</th>\n",
              "      <th>opinion_h1n1_vacc_effective</th>\n",
              "      <th>opinion_h1n1_risk</th>\n",
              "      <th>opinion_h1n1_sick_from_vacc</th>\n",
              "      <th>opinion_seas_vacc_effective</th>\n",
              "      <th>opinion_seas_risk</th>\n",
              "      <th>opinion_seas_sick_from_vacc</th>\n",
              "      <th>household_adults</th>\n",
              "      <th>household_children</th>\n",
              "    </tr>\n",
              "  </thead>\n",
              "  <tbody>\n",
              "    <tr>\n",
              "      <th>0</th>\n",
              "      <td>0</td>\n",
              "      <td>1.0</td>\n",
              "      <td>0.0</td>\n",
              "      <td>0.0</td>\n",
              "      <td>0.0</td>\n",
              "      <td>0.0</td>\n",
              "      <td>0.0</td>\n",
              "      <td>0.0</td>\n",
              "      <td>1.0</td>\n",
              "      <td>1.0</td>\n",
              "      <td>...</td>\n",
              "      <td>0.0</td>\n",
              "      <td>1.0</td>\n",
              "      <td>3.0</td>\n",
              "      <td>1.0</td>\n",
              "      <td>2.0</td>\n",
              "      <td>2.0</td>\n",
              "      <td>1.0</td>\n",
              "      <td>2.0</td>\n",
              "      <td>0.0</td>\n",
              "      <td>0.0</td>\n",
              "    </tr>\n",
              "  </tbody>\n",
              "</table>\n",
              "<p>1 rows × 24 columns</p>\n",
              "</div>\n",
              "      <button class=\"colab-df-convert\" onclick=\"convertToInteractive('df-6ef536c6-5d69-4e9e-8096-477246d2647d')\"\n",
              "              title=\"Convert this dataframe to an interactive table.\"\n",
              "              style=\"display:none;\">\n",
              "        \n",
              "  <svg xmlns=\"http://www.w3.org/2000/svg\" height=\"24px\"viewBox=\"0 0 24 24\"\n",
              "       width=\"24px\">\n",
              "    <path d=\"M0 0h24v24H0V0z\" fill=\"none\"/>\n",
              "    <path d=\"M18.56 5.44l.94 2.06.94-2.06 2.06-.94-2.06-.94-.94-2.06-.94 2.06-2.06.94zm-11 1L8.5 8.5l.94-2.06 2.06-.94-2.06-.94L8.5 2.5l-.94 2.06-2.06.94zm10 10l.94 2.06.94-2.06 2.06-.94-2.06-.94-.94-2.06-.94 2.06-2.06.94z\"/><path d=\"M17.41 7.96l-1.37-1.37c-.4-.4-.92-.59-1.43-.59-.52 0-1.04.2-1.43.59L10.3 9.45l-7.72 7.72c-.78.78-.78 2.05 0 2.83L4 21.41c.39.39.9.59 1.41.59.51 0 1.02-.2 1.41-.59l7.78-7.78 2.81-2.81c.8-.78.8-2.07 0-2.86zM5.41 20L4 18.59l7.72-7.72 1.47 1.35L5.41 20z\"/>\n",
              "  </svg>\n",
              "      </button>\n",
              "      \n",
              "  <style>\n",
              "    .colab-df-container {\n",
              "      display:flex;\n",
              "      flex-wrap:wrap;\n",
              "      gap: 12px;\n",
              "    }\n",
              "\n",
              "    .colab-df-convert {\n",
              "      background-color: #E8F0FE;\n",
              "      border: none;\n",
              "      border-radius: 50%;\n",
              "      cursor: pointer;\n",
              "      display: none;\n",
              "      fill: #1967D2;\n",
              "      height: 32px;\n",
              "      padding: 0 0 0 0;\n",
              "      width: 32px;\n",
              "    }\n",
              "\n",
              "    .colab-df-convert:hover {\n",
              "      background-color: #E2EBFA;\n",
              "      box-shadow: 0px 1px 2px rgba(60, 64, 67, 0.3), 0px 1px 3px 1px rgba(60, 64, 67, 0.15);\n",
              "      fill: #174EA6;\n",
              "    }\n",
              "\n",
              "    [theme=dark] .colab-df-convert {\n",
              "      background-color: #3B4455;\n",
              "      fill: #D2E3FC;\n",
              "    }\n",
              "\n",
              "    [theme=dark] .colab-df-convert:hover {\n",
              "      background-color: #434B5C;\n",
              "      box-shadow: 0px 1px 3px 1px rgba(0, 0, 0, 0.15);\n",
              "      filter: drop-shadow(0px 1px 2px rgba(0, 0, 0, 0.3));\n",
              "      fill: #FFFFFF;\n",
              "    }\n",
              "  </style>\n",
              "\n",
              "      <script>\n",
              "        const buttonEl =\n",
              "          document.querySelector('#df-6ef536c6-5d69-4e9e-8096-477246d2647d button.colab-df-convert');\n",
              "        buttonEl.style.display =\n",
              "          google.colab.kernel.accessAllowed ? 'block' : 'none';\n",
              "\n",
              "        async function convertToInteractive(key) {\n",
              "          const element = document.querySelector('#df-6ef536c6-5d69-4e9e-8096-477246d2647d');\n",
              "          const dataTable =\n",
              "            await google.colab.kernel.invokeFunction('convertToInteractive',\n",
              "                                                     [key], {});\n",
              "          if (!dataTable) return;\n",
              "\n",
              "          const docLinkHtml = 'Like what you see? Visit the ' +\n",
              "            '<a target=\"_blank\" href=https://colab.research.google.com/notebooks/data_table.ipynb>data table notebook</a>'\n",
              "            + ' to learn more about interactive tables.';\n",
              "          element.innerHTML = '';\n",
              "          dataTable['output_type'] = 'display_data';\n",
              "          await google.colab.output.renderOutput(dataTable, element);\n",
              "          const docLink = document.createElement('div');\n",
              "          docLink.innerHTML = docLinkHtml;\n",
              "          element.appendChild(docLink);\n",
              "        }\n",
              "      </script>\n",
              "    </div>\n",
              "  </div>\n",
              "  "
            ]
          },
          "metadata": {},
          "execution_count": 8
        }
      ]
    },
    {
      "cell_type": "code",
      "source": [
        "df_features = df_features.fillna(0)\n",
        "# df.fillna(0)"
      ],
      "metadata": {
        "id": "bFfBycfOo5fn"
      },
      "execution_count": 9,
      "outputs": []
    },
    {
      "cell_type": "code",
      "source": [
        "kmeans = KMeans(n_clusters=3, init='k-means++')\n",
        "kmeans.fit(df_features)\n",
        "y_kmeans = kmeans.fit_predict(df_features)\n",
        "centroids = kmeans.cluster_centers_\n",
        "y_kmeans"
      ],
      "metadata": {
        "id": "mH8b6OkeBvYr",
        "colab": {
          "base_uri": "https://localhost:8080/"
        },
        "outputId": "8680bf40-cba2-4d2a-8f56-e22fb0fc864e"
      },
      "execution_count": 10,
      "outputs": [
        {
          "output_type": "execute_result",
          "data": {
            "text/plain": [
              "array([2, 2, 2, ..., 1, 1, 1], dtype=int32)"
            ]
          },
          "metadata": {},
          "execution_count": 10
        }
      ]
    },
    {
      "cell_type": "code",
      "source": [
        "# centroids\n",
        "X = np.array(df_features)\n",
        "X"
      ],
      "metadata": {
        "id": "jmUA8niK5lrE",
        "outputId": "9d2af299-52a3-42e8-86e7-7b1dda5e6335",
        "colab": {
          "base_uri": "https://localhost:8080/"
        }
      },
      "execution_count": 11,
      "outputs": [
        {
          "output_type": "execute_result",
          "data": {
            "text/plain": [
              "array([[0.0000e+00, 1.0000e+00, 0.0000e+00, ..., 2.0000e+00, 0.0000e+00,\n",
              "        0.0000e+00],\n",
              "       [1.0000e+00, 3.0000e+00, 2.0000e+00, ..., 4.0000e+00, 0.0000e+00,\n",
              "        0.0000e+00],\n",
              "       [2.0000e+00, 1.0000e+00, 1.0000e+00, ..., 2.0000e+00, 2.0000e+00,\n",
              "        0.0000e+00],\n",
              "       ...,\n",
              "       [2.6704e+04, 2.0000e+00, 2.0000e+00, ..., 2.0000e+00, 0.0000e+00,\n",
              "        0.0000e+00],\n",
              "       [2.6705e+04, 1.0000e+00, 1.0000e+00, ..., 2.0000e+00, 1.0000e+00,\n",
              "        0.0000e+00],\n",
              "       [2.6706e+04, 0.0000e+00, 0.0000e+00, ..., 1.0000e+00, 1.0000e+00,\n",
              "        0.0000e+00]])"
            ]
          },
          "metadata": {},
          "execution_count": 11
        }
      ]
    },
    {
      "cell_type": "markdown",
      "source": [
        "## PCA"
      ],
      "metadata": {
        "id": "lSBS8zjT82dM"
      }
    },
    {
      "cell_type": "code",
      "source": [
        "df_features.shape"
      ],
      "metadata": {
        "id": "0vuvhfWO_TX2",
        "outputId": "70f064ba-ad64-474a-801d-5054fbe2b3c8",
        "colab": {
          "base_uri": "https://localhost:8080/"
        }
      },
      "execution_count": 26,
      "outputs": [
        {
          "output_type": "execute_result",
          "data": {
            "text/plain": [
              "(26707, 24)"
            ]
          },
          "metadata": {},
          "execution_count": 26
        }
      ]
    },
    {
      "cell_type": "code",
      "source": [
        "from sklearn.decomposition import PCA\n",
        "from sklearn.preprocessing import StandardScaler\n",
        "dt_features = StandardScaler().fit_transform(df_features)\n",
        "pca = PCA(n_components = 2)\n",
        "pca.fit(df_features)"
      ],
      "metadata": {
        "id": "FS1AOLaCBvHu",
        "outputId": "35c571df-1bf4-4c47-b1ba-3f6a9c4f2bce",
        "colab": {
          "base_uri": "https://localhost:8080/"
        }
      },
      "execution_count": 29,
      "outputs": [
        {
          "output_type": "execute_result",
          "data": {
            "text/plain": [
              "PCA(n_components=2)"
            ]
          },
          "metadata": {},
          "execution_count": 29
        }
      ]
    },
    {
      "cell_type": "code",
      "source": [
        "plt.plot(range(len(pca.explained_variance_)), pca.explained_variance_ratio_)\n",
        "plt.show()"
      ],
      "metadata": {
        "id": "WRGmBoPx_Bmj",
        "outputId": "7969b119-5932-4e74-ec90-107ea1a51f76",
        "colab": {
          "base_uri": "https://localhost:8080/",
          "height": 265
        }
      },
      "execution_count": 30,
      "outputs": [
        {
          "output_type": "display_data",
          "data": {
            "text/plain": [
              "<Figure size 432x288 with 1 Axes>"
            ],
            "image/png": "[encoded data removed]"
          },
          "metadata": {
            "needs_background": "light"
          }
        }
      ]
    },
    {
      "cell_type": "code",
      "source": [],
      "metadata": {
        "id": "VKeR3lcT6UYX"
      },
      "execution_count": null,
      "outputs": []
    },
    {
      "cell_type": "code",
      "source": [],
      "metadata": {
        "id": "QDYKbP3X6UVs"
      },
      "execution_count": null,
      "outputs": []
    },
    {
      "cell_type": "code",
      "source": [],
      "metadata": {
        "id": "qsmPPKUn6US-"
      },
      "execution_count": null,
      "outputs": []
    }
  ]
}